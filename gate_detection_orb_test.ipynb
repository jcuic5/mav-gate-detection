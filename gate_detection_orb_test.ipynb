{
 "cells": [
  {
   "cell_type": "code",
   "execution_count": 4,
   "metadata": {},
   "outputs": [],
   "source": [
    "import numpy as np\n",
    "import cv2\n",
    "from matplotlib import pyplot as plt\n",
    "import glob, os\n",
    "import time"
   ]
  },
  {
   "cell_type": "code",
   "execution_count": 5,
   "metadata": {},
   "outputs": [
    {
     "name": "stdout",
     "output_type": "stream",
     "text": [
      "Found 308 image files in the directory \"WashingtonOBRace\"\n",
      "Found 308 mask files in the directory \"WashingtonOBRace\"\n",
      "loaded 308 images\n",
      "loaded 308 masks\n",
      "['WashingtonOBRace/mask_6.png', 'WashingtonOBRace/mask_8.png', 'WashingtonOBRace/mask_9.png', 'WashingtonOBRace/mask_10.png', 'WashingtonOBRace/mask_11.png', 'WashingtonOBRace/mask_12.png', 'WashingtonOBRace/mask_13.png', 'WashingtonOBRace/mask_14.png', 'WashingtonOBRace/mask_18.png', 'WashingtonOBRace/mask_19.png']\n"
     ]
    }
   ],
   "source": [
    "# LOAD AND SORT IMAGES FILENAMES INTO LISTS\n",
    "image_dir = 'WashingtonOBRace'\n",
    "\n",
    "img_filenames = glob.glob(os.path.join(image_dir, 'img_[0-9]*.png'))\n",
    "img_filenames = sorted(img_filenames, key=lambda x:int(x[21:-4]))\n",
    "print(f'Found {len(img_filenames)} image files in the directory \"{image_dir}\"')\n",
    "\n",
    "mask_filenames = glob.glob(os.path.join(image_dir, 'mask_*.png'))\n",
    "mask_filenames = sorted(mask_filenames, key=lambda x:int(x[22:-4]))\n",
    "print(f'Found {len(mask_filenames)} mask files in the directory \"{image_dir}\"')\n",
    "\n",
    "# READ AND STORE IMAGES AND MASKS INTO LISTS\n",
    "imgs = [cv2.imread(filename, flags=cv2.IMREAD_COLOR) \\\n",
    "                                for filename in img_filenames]\n",
    "imgs = [cv2.cvtColor(img, cv2.COLOR_BGR2GRAY) for img in imgs]\n",
    "print('loaded %d images' % len(imgs))\n",
    "\n",
    "masks = [cv2.imread(filename, flags=cv2.IMREAD_GRAYSCALE) \\\n",
    "                                 for filename in mask_filenames]\n",
    "print('loaded %d masks' % len(masks))\n",
    "\n",
    "print(mask_filenames[:10])"
   ]
  },
  {
   "cell_type": "code",
   "execution_count": 14,
   "metadata": {},
   "outputs": [
    {
     "name": "stdout",
     "output_type": "stream",
     "text": [
      "WashingtonOBRace/img_295.png\n",
      "WashingtonOBRace/img_296.png\n",
      "WashingtonOBRace/mask_295.png\n",
      "WashingtonOBRace/mask_296.png\n"
     ]
    }
   ],
   "source": [
    "queryImg = imgs[209] # queryImage\n",
    "trainImg = imgs[210] # trainImage\n",
    "queryMask = masks[209] # maskImage\n",
    "trainMask = masks[210]\n",
    "print(img_filenames[209])\n",
    "print(img_filenames[210])\n",
    "print(mask_filenames[209])\n",
    "print(mask_filenames[210])"
   ]
  },
  {
   "cell_type": "code",
   "execution_count": 15,
   "metadata": {},
   "outputs": [],
   "source": [
    "# SETUP\n",
    "orb = cv2.ORB_create(nfeatures=300, WTA_K=2, scoreType=0)\n",
    "\n",
    "queryKp = orb.detect(queryImg,None)\n",
    "queryKps, queryDes = orb.compute(queryImg, queryKp)\n",
    "\n",
    "index_params = dict(algorithm=6,\n",
    "                    table_number=6,\n",
    "                    key_size=12,\n",
    "                    multi_probe_level=2)\n",
    "search_params = {}\n",
    "matcher = cv2.FlannBasedMatcher(index_params, search_params)\n",
    "\n",
    "MIN_MATCH_COUNT = 10"
   ]
  },
  {
   "cell_type": "code",
   "execution_count": 16,
   "metadata": {},
   "outputs": [
    {
     "name": "stdout",
     "output_type": "stream",
     "text": [
      "In 0.025719165802001953 seconds.\r"
     ]
    }
   ],
   "source": [
    "# PROCESS INCOMING IMAGE FRAME\n",
    "start_time = time.time()\n",
    "trainKp = orb.detect(trainImg,None)\n",
    "trainKps, trainDes = orb.compute(trainImg, trainKp)\n",
    "\n",
    "# MATCH FEATURES\n",
    "matches = matcher.knnMatch(queryDes, trainDes, k=8)\n",
    "\n",
    "# FILTER GOOD MATCHES\n",
    "good_matches = []\n",
    "\n",
    "for candidates in matches:\n",
    "    scores = np.zeros((len(candidates),))\n",
    "    vert_popularity = np.zeros((len(candidates),))\n",
    "    vert_similarity = np.zeros((len(candidates),))\n",
    "    query_y = (queryKp[candidates[0].queryIdx].pt)[1] # NOTE: m.queryIdx == n.queryIdx\n",
    "    \n",
    "    for idx, candidate in enumerate(candidates):\n",
    "        scores[idx] = candidate.distance\n",
    "        train_cy = (trainKp[candidate.trainIdx].pt)[1]\n",
    "        vert_popularity[idx] = train_cy\n",
    "        vert_similarity[idx] = abs(query_y - train_cy)\n",
    "    vert_popularity = abs(vert_popularity - np.median(vert_popularity))\n",
    "    scores += 1 *vert_popularity + 0*vert_similarity\n",
    "    \n",
    "    scores = -scores\n",
    "    scores -= np.min(scores)\n",
    "    best_candidate = np.argmax(scores)\n",
    "    best_score = scores[best_candidate]\n",
    "    scores[best_candidate] = float('-inf')\n",
    "    second_candidate = np.argmax(scores)\n",
    "    if best_score > 1.25 * scores[second_candidate]:\n",
    "        good_matches.append(candidates[best_candidate])\n",
    "        \n",
    "if len(good_matches) > MIN_MATCH_COUNT:\n",
    "    src_pts = np.float32([queryKp[m.queryIdx].pt for m in good_matches]).reshape(-1,1,2)\n",
    "    dst_pts = np.float32([trainKp[m.trainIdx].pt for m in good_matches]).reshape(-1,1,2)\n",
    "\n",
    "    M, mask = cv2.findHomography(src_pts, dst_pts, cv2.RANSAC, 5.0)\n",
    "    matchesMask = mask.ravel().tolist()\n",
    "\n",
    "    h,w = queryImg.shape\n",
    "    pts = np.float32([ [0,0],[0,h-1],[w-1,h-1],[w-1,0] ]).reshape(-1,1,2)\n",
    "    dst = cv2.perspectiveTransform(pts,M)\n",
    "    \n",
    "    PredMask = cv2.warpPerspective(queryMask, M, (trainImg.shape[1], trainImg.shape[0]))\n",
    "    \n",
    "else:\n",
    "    print(\"Not enough matches are found - %d/%d\" % (len(good_matches),MIN_MATCH_COUNT))\n",
    "    matchesMask = None\n",
    "    \n",
    "end_time = time.time()\n",
    "print(\"In {0} seconds.\".format(end_time - start_time), end='\\r')"
   ]
  },
  {
   "cell_type": "code",
   "execution_count": 17,
   "metadata": {},
   "outputs": [
    {
     "data": {
      "image/png": "[encoded data removed]",
      "text/plain": [
       "<Figure size 432x288 with 1 Axes>"
      ]
     },
     "metadata": {
      "needs_background": "light"
     },
     "output_type": "display_data"
    }
   ],
   "source": [
    "plt.imshow(queryMask, 'gray')\n",
    "plt.show()"
   ]
  },
  {
   "cell_type": "code",
   "execution_count": 18,
   "metadata": {},
   "outputs": [
    {
     "data": {
      "image/png": "[encoded data removed]",
      "text/plain": [
       "<Figure size 432x288 with 1 Axes>"
      ]
     },
     "metadata": {
      "needs_background": "light"
     },
     "output_type": "display_data"
    }
   ],
   "source": [
    "plt.imshow(PredMask, 'gray')\n",
    "plt.show()"
   ]
  },
  {
   "cell_type": "code",
   "execution_count": 19,
   "metadata": {},
   "outputs": [
    {
     "data": {
      "image/png": "[encoded data removed]",
      "text/plain": [
       "<Figure size 432x288 with 1 Axes>"
      ]
     },
     "metadata": {
      "needs_background": "light"
     },
     "output_type": "display_data"
    }
   ],
   "source": [
    "plt.imshow(trainMask, 'gray')\n",
    "plt.show()"
   ]
  },
  {
   "cell_type": "code",
   "execution_count": 20,
   "metadata": {},
   "outputs": [],
   "source": [
    "import ROC\n",
    "import matplotlib.pyplot as plt\n",
    "\n",
    "# Change ONLY the following line:\n",
    "Values = PredMask\n",
    "\n",
    "# make it a flat list of values, in the right order:\n",
    "Values = Values.flatten();\n",
    "\n",
    "classes = trainMask\n",
    "classes[classes > 0] = 1\n",
    "classes = classes.flatten()\n",
    "\n",
    "# get the ROC curve:\n",
    "TP, FP = ROC.get_ROC_curve(Values, classes)"
   ]
  },
  {
   "cell_type": "code",
   "execution_count": 21,
   "metadata": {},
   "outputs": [
    {
     "data": {
      "text/plain": [
       "Text(0.5, 0, 'FP')"
      ]
     },
     "execution_count": 21,
     "metadata": {},
     "output_type": "execute_result"
    },
    {
     "data": {
      "image/png": "[encoded data removed]",
      "text/plain": [
       "<Figure size 432x288 with 1 Axes>"
      ]
     },
     "metadata": {
      "needs_background": "light"
     },
     "output_type": "display_data"
    }
   ],
   "source": [
    "# plot the ROC curve:\n",
    "plt.figure()\n",
    "plt.plot(FP, TP, 'b')\n",
    "plt.ylabel('TP')\n",
    "plt.xlabel('FP')"
   ]
  },
  {
   "cell_type": "code",
   "execution_count": null,
   "metadata": {},
   "outputs": [],
   "source": []
  }
 ],
 "metadata": {
  "kernelspec": {
   "display_name": "Python 3",
   "language": "python",
   "name": "python3"
  },
  "language_info": {
   "codemirror_mode": {
    "name": "ipython",
    "version": 3
   },
   "file_extension": ".py",
   "mimetype": "text/x-python",
   "name": "python",
   "nbconvert_exporter": "python",
   "pygments_lexer": "ipython3",
   "version": "3.8.3"
  }
 },
 "nbformat": 4,
 "nbformat_minor": 4
}
